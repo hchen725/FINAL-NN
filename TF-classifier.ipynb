{
 "cells": [
  {
   "cell_type": "markdown",
   "id": "2e950b8d",
   "metadata": {},
   "source": [
    "# Transcription factor classifier"
   ]
  },
  {
   "cell_type": "code",
   "execution_count": 1,
   "id": "6fb494b2",
   "metadata": {},
   "outputs": [],
   "source": [
    "import numpy as np\n",
    "import matplotlib.pyplot as plt\n",
    "import pandas as pd\n",
    "from sklearn.model_selection import train_test_split, KFold\n",
    "from sklearn.metrics import mean_squared_error\n",
    "from itertools import product\n",
    "from nn import nn, io, preprocess"
   ]
  },
  {
   "cell_type": "markdown",
   "id": "f2b83361",
   "metadata": {},
   "source": [
    "## Data"
   ]
  },
  {
   "cell_type": "code",
   "execution_count": 2,
   "id": "debde312",
   "metadata": {},
   "outputs": [
    {
     "name": "stdout",
     "output_type": "stream",
     "text": [
      "Length of Rap1 positives: 137\n",
      "Length of Yeast negatives: 3163\n"
     ]
    }
   ],
   "source": [
    "rap1 = io.read_text_file(\"./data/rap1-lieb-positives.txt\")\n",
    "yeast = io.read_fasta_file(\"./data/yeast-upstream-1k-negative.fa\")\n",
    "\n",
    "print(\"Length of Rap1 positives: \" + str(len(rap1)))\n",
    "print(\"Length of Yeast negatives: \" + str(len(yeast)))"
   ]
  },
  {
   "cell_type": "code",
   "execution_count": 3,
   "id": "95cc89b8",
   "metadata": {
    "scrolled": true
   },
   "outputs": [
    {
     "name": "stdout",
     "output_type": "stream",
     "text": [
      "Length of positives: 137\n",
      "Length of negatives: 183297\n",
      "Total sequences: 183434\n"
     ]
    }
   ],
   "source": [
    "pos_seq = rap1\n",
    "\n",
    "# Break up yeast_neg into sizes match the length of rap1 sequences\n",
    "seq_len = len(rap1[0])\n",
    "neg_seq = []\n",
    "\n",
    "for seq in yeast:\n",
    "    seq_sub = [seq[i:i+seq_len] for i in range(0, len(seq), seq_len)]\n",
    "    # Keep only sequences that are exactly rap length long\n",
    "    seq_sub = [x for x in seq_sub if len(x) == seq_len]\n",
    "    neg_seq += seq_sub\n",
    "\n",
    "# Combine all sequences and get labes\n",
    "seqs = pos_seq + neg_seq\n",
    "labels = [True] * len(pos_seq) + [False] * len(neg_seq)\n",
    "\n",
    "print(\"Length of positives: \" + str(len(pos_seq)))\n",
    "print(\"Length of negatives: \" + str(len(neg_seq)))\n",
    "print(\"Total sequences: \" + str(len(pos_seq) + len(neg_seq)))"
   ]
  },
  {
   "cell_type": "code",
   "execution_count": 4,
   "id": "cda8e9f2",
   "metadata": {},
   "outputs": [
    {
     "name": "stdout",
     "output_type": "stream",
     "text": [
      "Length of positives: 183297\n",
      "Length of negatives: 183297\n",
      "Total sequences: 366594\n"
     ]
    }
   ],
   "source": [
    "# Up sample the positive class\n",
    "seqs2, labels2 = preprocess.sample_seqs(seqs, labels)\n",
    "print(\"Length of positives: \" + str(sum(labels2)))\n",
    "print(\"Length of negatives: \" + str(len(seqs2) - sum(labels2)))\n",
    "print(\"Total sequences: \" + str(len(seqs2)))"
   ]
  },
  {
   "cell_type": "code",
   "execution_count": 5,
   "id": "dc62ea23",
   "metadata": {},
   "outputs": [
    {
     "name": "stdout",
     "output_type": "stream",
     "text": [
      "Training data (256615, 68)\n",
      "Training labels (256615,)\n",
      "Testing data (109979, 68)\n",
      "Testing labels (109979,)\n"
     ]
    }
   ],
   "source": [
    "# Encode sequences and create a training and testing split\n",
    "X = preprocess.one_hot_encode_seqs(seqs2)\n",
    "y = np.array(labels2)\n",
    "X_train, X_val, y_train, y_val = train_test_split(X, y, test_size = 0.3, random_state = 1)\n",
    "print(\"Training data \" + str(X_train.shape))\n",
    "print(\"Training labels \" + str(y_train.shape))\n",
    "print(\"Testing data \" + str(X_val.shape))\n",
    "print(\"Testing labels \" + str(y_val.shape))\n",
    "\n",
    "\n",
    "# X_train = X_train[1:200]\n",
    "# y_train = y_train[1:200]\n",
    "# X_val = X_val[1:100]\n",
    "# y_val = y_val[1:100]"
   ]
  },
  {
   "cell_type": "markdown",
   "id": "d0ed3028",
   "metadata": {},
   "source": [
    "For this dataset, I chose to upsample the positive class to match the number of observations in the negative class. The primary reason for this is because neural networks tend to do better with a larger number of observations and having 274 total observations would not yield a productive neural network function."
   ]
  },
  {
   "cell_type": "markdown",
   "id": "91a3bc80",
   "metadata": {},
   "source": [
    "## NN\n",
    "Created a three layer neural network to go from the original 68 dimensions to a single classification outcome. Because it's a classification task, it made sense to use a sigmoid function for the final layer. The other parameters I chose purely out of convenience."
   ]
  },
  {
   "cell_type": "code",
   "execution_count": 9,
   "id": "76b180e5",
   "metadata": {
    "scrolled": true
   },
   "outputs": [
    {
     "name": "stdout",
     "output_type": "stream",
     "text": [
      "Epochs is greater than 1, setting debug to False\n",
      "Number of batches: 2567.0\n",
      "Finished epoch 1 out of 200\n",
      "Finished epoch 21 out of 200\n",
      "Finished epoch 41 out of 200\n",
      "Finished epoch 61 out of 200\n",
      "Finished epoch 81 out of 200\n",
      "Finished epoch 101 out of 200\n",
      "Finished epoch 121 out of 200\n",
      "Finished epoch 141 out of 200\n",
      "Finished epoch 161 out of 200\n",
      "Finished epoch 181 out of 200\n",
      "Completed NN fitting\n"
     ]
    }
   ],
   "source": [
    "layers = [{\"input_dim\" : 68, \"output_dim\" : 34, \"activation\" : \"sigmoid\"},\n",
    "          {\"input_dim\" : 34, \"output_dim\" : 17, \"activation\" : \"sigmoid\"},\n",
    "          {\"input_dim\" : 17, \"output_dim\" : 1, \"activation\" : \"sigmoid\"}]\n",
    "\n",
    "net = nn.NeuralNetwork(nn_arch = layers,\n",
    "                       batch_size = 100,\n",
    "                       epochs = 200,\n",
    "                       lr = 0.001,\n",
    "                       seed = 1,\n",
    "                       loss_function = \"bce\",\n",
    "                       verbose = True,\n",
    "                       debug = True)\n",
    "\n",
    "train_loss, val_loss = net.fit(X_train, y_train, X_val, y_val)"
   ]
  },
  {
   "cell_type": "markdown",
   "id": "9dfcfbdb",
   "metadata": {},
   "source": [
    "Plot the training and validation losses"
   ]
  },
  {
   "cell_type": "code",
   "execution_count": 7,
   "id": "c45325a7",
   "metadata": {},
   "outputs": [
    {
     "data": {
      "image/png": "[encoded data removed]",
      "text/plain": [
       "<Figure size 1000x500 with 2 Axes>"
      ]
     },
     "metadata": {},
     "output_type": "display_data"
    }
   ],
   "source": [
    "fig, axs = plt.subplots(1, 2, figsize=(10,5))\n",
    "fig.suptitle('Loss History')\n",
    "axs[0].plot(np.arange(len(train_loss)), train_loss)\n",
    "axs[0].set_title('Training Loss')\n",
    "axs[0].set_xlabel(\"Epochs\")\n",
    "axs[0].set_ylabel('Loss')\n",
    "axs[1].plot(np.arange(len(val_loss)), val_loss)\n",
    "axs[1].set_title('Validation Loss')\n",
    "axs[1].set_xlabel(\"Epochs\")\n",
    "axs[1].set_ylabel('Loss')\n",
    "fig.tight_layout()\n",
    "plt.show() "
   ]
  },
  {
   "cell_type": "code",
   "execution_count": 8,
   "id": "ce1a76d6",
   "metadata": {
    "scrolled": true
   },
   "outputs": [
    {
     "name": "stdout",
     "output_type": "stream",
     "text": [
      "Average prediction error: 0.1345\n"
     ]
    }
   ],
   "source": [
    "pred = net.predict(X_val)\n",
    "pred_err = mean_squared_error(y_val, pred)\n",
    "print(\"Average prediction error: \" + str(round(pred_err, 4)))"
   ]
  }
 ],
 "metadata": {
  "kernelspec": {
   "display_name": "Python 3 (ipykernel)",
   "language": "python",
   "name": "python3"
  },
  "language_info": {
   "codemirror_mode": {
    "name": "ipython",
    "version": 3
   },
   "file_extension": ".py",
   "mimetype": "text/x-python",
   "name": "python",
   "nbconvert_exporter": "python",
   "pygments_lexer": "ipython3",
   "version": "3.9.15"
  }
 },
 "nbformat": 4,
 "nbformat_minor": 5
}
