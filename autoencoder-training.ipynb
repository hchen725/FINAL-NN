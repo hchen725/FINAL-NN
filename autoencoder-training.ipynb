{
 "cells": [
  {
   "cell_type": "markdown",
   "id": "2ca60309",
   "metadata": {},
   "source": [
    "# Autoencoder training"
   ]
  },
  {
   "cell_type": "code",
   "execution_count": 1,
   "id": "a1895bdf",
   "metadata": {},
   "outputs": [],
   "source": [
    "import numpy as np\n",
    "import matplotlib.pyplot as plt\n",
    "import pandas as pd\n",
    "from sklearn.datasets import load_digits\n",
    "from sklearn.model_selection import train_test_split, KFold\n",
    "from sklearn.metrics import mean_squared_error\n",
    "from itertools import product\n",
    "from nn import nn"
   ]
  },
  {
   "cell_type": "markdown",
   "id": "1fa56633",
   "metadata": {},
   "source": [
    "Load digits dataset from sklearn and split data into training and testing sets using train_test_split"
   ]
  },
  {
   "cell_type": "code",
   "execution_count": 2,
   "id": "298ba581",
   "metadata": {},
   "outputs": [
    {
     "name": "stdout",
     "output_type": "stream",
     "text": [
      "Training data (1257, 64)\n",
      "Testing data (540, 64)\n"
     ]
    }
   ],
   "source": [
    "np.random.seed(1)\n",
    "digits = load_digits()\n",
    "X_train, X_val, y_train, y_val = train_test_split(digits[\"data\"], digits[\"target\"],\n",
    "                                                 test_size = 0.3, \n",
    "                                                 random_state = 1)\n",
    "print(\"Training data \" + str(X_train.shape))\n",
    "print(\"Testing data \" + str(X_val.shape))"
   ]
  },
  {
   "cell_type": "markdown",
   "id": "18120b65",
   "metadata": {},
   "source": [
    "## 3-fold cross validation for tuning of neural network layers\n",
    "Parameters to test:\n",
    "* Number of layers: 2 vs 4\n",
    "* Number of batches: 100 vs 200\n",
    "* Number of epochs: 50, 100\n",
    "\n",
    "For the number of layers in the neural network, because we are trying to recreate the original image that has 64 features associated with each image rather than classify the labels, our output dimension is also 64. If we were to just try to classify what number that image is, our output dimension would be 1. \n",
    "For all layers, we will use a relu activation as the values fall along a continuous scale rather than a categorical value for which we would consider using a sigmoid activation."
   ]
  },
  {
   "cell_type": "code",
   "execution_count": 3,
   "id": "4210b746",
   "metadata": {},
   "outputs": [
    {
     "data": {
      "text/plain": [
       "[{'Layers': 2, 'Batches': 100, 'Epochs': 100},\n",
       " {'Layers': 2, 'Batches': 100, 'Epochs': 500},\n",
       " {'Layers': 2, 'Batches': 200, 'Epochs': 100},\n",
       " {'Layers': 2, 'Batches': 200, 'Epochs': 500},\n",
       " {'Layers': 4, 'Batches': 100, 'Epochs': 100},\n",
       " {'Layers': 4, 'Batches': 100, 'Epochs': 500},\n",
       " {'Layers': 4, 'Batches': 200, 'Epochs': 100},\n",
       " {'Layers': 4, 'Batches': 200, 'Epochs': 500}]"
      ]
     },
     "execution_count": 3,
     "metadata": {},
     "output_type": "execute_result"
    }
   ],
   "source": [
    "num_cv = 3 # number of cross validation folds\n",
    "# Create dataframe to store training results\n",
    "cols = [\"idx\", \"train_error\", \"val_error\",]\n",
    "tune_res = pd.DataFrame(columns = cols)\n",
    "\n",
    "# Split the training set into three folds\n",
    "kf = KFold(n_splits = num_cv)\n",
    "\n",
    "# Define the parameters\n",
    "num_layers = {2: [{\"input_dim\": 64, \"output_dim\": 16, \"activation\": \"relu\"},\n",
    "                  {\"input_dim\": 16, \"output_dim\": 64, \"activation\": \"relu\"}],\n",
    "              4: [{'input_dim': 64, 'output_dim': 32, 'activation': 'relu'},\n",
    "                  {'input_dim': 32, 'output_dim': 16, 'activation': 'relu'},\n",
    "                  {'input_dim': 16, 'output_dim': 32, 'activation': 'relu'},  \n",
    "                  {'input_dim': 32, 'output_dim': 64, 'activation': 'relu'}]}\n",
    "num_batches = {100: 100, \n",
    "               200: 200}\n",
    "num_epochs = {100: 100,\n",
    "              500: 500}\n",
    "\n",
    "# Create a grid of parameter iterations\n",
    "d = {'Layers':[2, 4], \n",
    "     'Batches':[100, 200],\n",
    "     'Epochs':[100, 500]}\n",
    "param_grid = [dict(zip(d, v)) for v in product(*d.values())]\n",
    "param_grid"
   ]
  },
  {
   "cell_type": "code",
   "execution_count": 4,
   "id": "b43b21ba",
   "metadata": {},
   "outputs": [
    {
     "name": "stdout",
     "output_type": "stream",
     "text": [
      "Testing parameter set 0\n",
      "Layers = 2, Batches = 100, Epochs = 100\n",
      "Testing parameter set 1\n",
      "Layers = 2, Batches = 100, Epochs = 500\n",
      "Testing parameter set 2\n",
      "Layers = 2, Batches = 200, Epochs = 100\n",
      "Testing parameter set 3\n",
      "Layers = 2, Batches = 200, Epochs = 500\n",
      "Testing parameter set 4\n",
      "Layers = 4, Batches = 100, Epochs = 100\n",
      "Testing parameter set 5\n",
      "Layers = 4, Batches = 100, Epochs = 500\n",
      "Testing parameter set 6\n",
      "Layers = 4, Batches = 200, Epochs = 100\n",
      "Testing parameter set 7\n",
      "Layers = 4, Batches = 200, Epochs = 500\n"
     ]
    }
   ],
   "source": [
    "# Iterate through the parameter grid\n",
    "for idx, _ in enumerate(param_grid):\n",
    "    # Get current parameters\n",
    "    l = param_grid[idx]['Layers']\n",
    "    b = param_grid[idx]['Batches']\n",
    "    e = param_grid[idx]['Epochs']\n",
    "    print(\"Testing parameter set \" + str(idx))\n",
    "    print(\"Layers = \" + str(l) + \", Batches = \" + str(b) + \", Epochs = \" + str(e))\n",
    "    \n",
    "    fold_train_loss = []\n",
    "    fold_val_loss = []\n",
    "    \n",
    "    tune_res.loc[idx, \"idx\"] = idx\n",
    "    # Iterate through the CV folds\n",
    "    for cv_fold, (train_idx, val_idx) in enumerate(kf.split(X_train, y_train)):\n",
    "        # print(\"Testing fold #\" + str(cv_fold + 1))\n",
    "        \n",
    "        # Initialize neural network with current parameters\n",
    "        net = nn.NeuralNetwork(nn_arch = num_layers[l],\n",
    "                               batch_size = num_batches[b],\n",
    "                               epochs = num_epochs[e],\n",
    "                               lr = 0.0001,\n",
    "                               seed = 1,\n",
    "                               loss_function = \"mse\")\n",
    "        # Get fold-specific training and testing data\n",
    "        train_loss, val_loss = net.fit(X_train[train_idx], X_train[train_idx],\n",
    "                                       X_train[val_idx], X_train[val_idx])\n",
    "        \n",
    "        # Calculate average loss\n",
    "        fold_train_loss.append(np.mean(train_loss))\n",
    "        fold_val_loss.append(np.mean(val_loss))\n",
    "    \n",
    "    tune_res.loc[idx, \"train_error\"] = np.mean(fold_train_loss)\n",
    "    tune_res.loc[idx, \"val_error\"] = np.mean(fold_val_loss)"
   ]
  },
  {
   "cell_type": "code",
   "execution_count": 5,
   "id": "0489b57f",
   "metadata": {},
   "outputs": [
    {
     "data": {
      "text/html": [
       "<div>\n",
       "<style scoped>\n",
       "    .dataframe tbody tr th:only-of-type {\n",
       "        vertical-align: middle;\n",
       "    }\n",
       "\n",
       "    .dataframe tbody tr th {\n",
       "        vertical-align: top;\n",
       "    }\n",
       "\n",
       "    .dataframe thead th {\n",
       "        text-align: right;\n",
       "    }\n",
       "</style>\n",
       "<table border=\"1\" class=\"dataframe\">\n",
       "  <thead>\n",
       "    <tr style=\"text-align: right;\">\n",
       "      <th></th>\n",
       "      <th>idx</th>\n",
       "      <th>train_error</th>\n",
       "      <th>val_error</th>\n",
       "    </tr>\n",
       "  </thead>\n",
       "  <tbody>\n",
       "    <tr>\n",
       "      <th>0</th>\n",
       "      <td>0</td>\n",
       "      <td>20.117011</td>\n",
       "      <td>20.212309</td>\n",
       "    </tr>\n",
       "    <tr>\n",
       "      <th>1</th>\n",
       "      <td>1</td>\n",
       "      <td>13.227483</td>\n",
       "      <td>13.378995</td>\n",
       "    </tr>\n",
       "    <tr>\n",
       "      <th>2</th>\n",
       "      <td>2</td>\n",
       "      <td>23.610844</td>\n",
       "      <td>23.641599</td>\n",
       "    </tr>\n",
       "    <tr>\n",
       "      <th>3</th>\n",
       "      <td>3</td>\n",
       "      <td>15.820645</td>\n",
       "      <td>15.93982</td>\n",
       "    </tr>\n",
       "    <tr>\n",
       "      <th>4</th>\n",
       "      <td>4</td>\n",
       "      <td>19.091336</td>\n",
       "      <td>19.130938</td>\n",
       "    </tr>\n",
       "    <tr>\n",
       "      <th>5</th>\n",
       "      <td>5</td>\n",
       "      <td>9.192604</td>\n",
       "      <td>9.4144</td>\n",
       "    </tr>\n",
       "    <tr>\n",
       "      <th>6</th>\n",
       "      <td>6</td>\n",
       "      <td>22.855747</td>\n",
       "      <td>22.841205</td>\n",
       "    </tr>\n",
       "    <tr>\n",
       "      <th>7</th>\n",
       "      <td>7</td>\n",
       "      <td>12.312025</td>\n",
       "      <td>12.486959</td>\n",
       "    </tr>\n",
       "  </tbody>\n",
       "</table>\n",
       "</div>"
      ],
      "text/plain": [
       "  idx train_error  val_error\n",
       "0   0   20.117011  20.212309\n",
       "1   1   13.227483  13.378995\n",
       "2   2   23.610844  23.641599\n",
       "3   3   15.820645   15.93982\n",
       "4   4   19.091336  19.130938\n",
       "5   5    9.192604     9.4144\n",
       "6   6   22.855747  22.841205\n",
       "7   7   12.312025  12.486959"
      ]
     },
     "execution_count": 5,
     "metadata": {},
     "output_type": "execute_result"
    }
   ],
   "source": [
    "# Results of tuning\n",
    "tune_res"
   ]
  },
  {
   "cell_type": "code",
   "execution_count": 6,
   "id": "a2883af3",
   "metadata": {},
   "outputs": [
    {
     "name": "stdout",
     "output_type": "stream",
     "text": [
      "Lowest validation with the following parameters:\n",
      "Layers: 4\n",
      "Batches: 100\n",
      "Epochs: 500\n"
     ]
    }
   ],
   "source": [
    "# Get parameters of the tuning with the lowest validation error\n",
    "opt_idx = tune_res[\"val_error\"].astype(float).idxmin()\n",
    "# Print parameters\n",
    "print(\"Lowest validation with the following parameters:\")\n",
    "print(\"Layers: \" + str(param_grid[opt_idx]['Layers']))\n",
    "print(\"Batches: \" + str(param_grid[opt_idx]['Batches']))\n",
    "print(\"Epochs: \" + str(param_grid[opt_idx]['Epochs']))"
   ]
  },
  {
   "cell_type": "markdown",
   "id": "5dd7e2e7",
   "metadata": {},
   "source": [
    "# Run model with tuned parameters\n",
    "Given the outputs of the tuning, run with the \"optimal parameters\", training on the full dataset and validating on the test dataset. Again, using the true \"pixel\" values as the \"labels\""
   ]
  },
  {
   "cell_type": "code",
   "execution_count": 7,
   "id": "16c47229",
   "metadata": {},
   "outputs": [],
   "source": [
    "net = nn.NeuralNetwork(nn_arch = num_layers[param_grid[opt_idx]['Layers']],\n",
    "                       batch_size = num_batches[param_grid[opt_idx]['Batches']],\n",
    "                       epochs = num_epochs[param_grid[opt_idx]['Epochs']],\n",
    "                       lr = 0.0001,\n",
    "                       seed = 1,\n",
    "                       loss_function = \"mse\")\n",
    "\n",
    "train_loss, val_loss = net.fit(X_train, X_train, X_val, X_val)"
   ]
  },
  {
   "cell_type": "markdown",
   "id": "1ca504d5",
   "metadata": {},
   "source": [
    "Plot the training and validation losses"
   ]
  },
  {
   "cell_type": "code",
   "execution_count": 8,
   "id": "2bf14423",
   "metadata": {},
   "outputs": [
    {
     "data": {
      "image/png": "[encoded data removed]",
      "text/plain": [
       "<Figure size 1000x500 with 2 Axes>"
      ]
     },
     "metadata": {},
     "output_type": "display_data"
    }
   ],
   "source": [
    "fig, axs = plt.subplots(1, 2, figsize=(10,5))\n",
    "fig.suptitle('Loss History')\n",
    "axs[0].plot(np.arange(len(train_loss)), train_loss)\n",
    "axs[0].set_title('Training Loss')\n",
    "axs[0].set_xlabel(\"Epochs\")\n",
    "axs[0].set_ylabel('Loss')\n",
    "axs[1].plot(np.arange(len(val_loss)), val_loss)\n",
    "axs[1].set_title('Validation Loss')\n",
    "axs[1].set_xlabel(\"Epochs\")\n",
    "axs[1].set_ylabel('Loss')\n",
    "fig.tight_layout()\n",
    "plt.show() "
   ]
  },
  {
   "cell_type": "markdown",
   "id": "5cc9b132",
   "metadata": {},
   "source": [
    "Cherry pick an image that looks somewhat decent (ツ)_/¯. TBD if it's a 7 or a 9"
   ]
  },
  {
   "cell_type": "code",
   "execution_count": 10,
   "id": "02c1fd27",
   "metadata": {},
   "outputs": [
    {
     "name": "stdout",
     "output_type": "stream",
     "text": [
      "Average prediction error: 4.9622\n"
     ]
    },
    {
     "data": {
      "image/png": "[encoded data removed]",
      "text/plain": [
       "<Figure size 1200x400 with 2 Axes>"
      ]
     },
     "metadata": {},
     "output_type": "display_data"
    }
   ],
   "source": [
    "pred = net.predict(X_val)\n",
    "pred_err = mean_squared_error(X_val, pred)\n",
    "print(\"Average prediction error: \" + str(round(pred_err, 4)))\n",
    "\n",
    "fig, ax = plt.subplots(1, 2, figsize = (12, 4))\n",
    "ax[0].matshow(X_val[3].reshape((8, 8)))\n",
    "ax[0].set_title(\"Actual\")\n",
    "ax[1].matshow(pred[3].reshape((8, 8)))\n",
    "ax[1].set_title(\"Predicted\")\n",
    "fig.tight_layout()\n",
    "plt.show() "
   ]
  },
  {
   "cell_type": "code",
   "execution_count": null,
   "id": "0c1efa35",
   "metadata": {},
   "outputs": [],
   "source": []
  }
 ],
 "metadata": {
  "kernelspec": {
   "display_name": "Python 3 (ipykernel)",
   "language": "python",
   "name": "python3"
  },
  "language_info": {
   "codemirror_mode": {
    "name": "ipython",
    "version": 3
   },
   "file_extension": ".py",
   "mimetype": "text/x-python",
   "name": "python",
   "nbconvert_exporter": "python",
   "pygments_lexer": "ipython3",
   "version": "3.9.15"
  }
 },
 "nbformat": 4,
 "nbformat_minor": 5
}
